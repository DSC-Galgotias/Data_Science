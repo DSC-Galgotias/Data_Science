{
  "nbformat": 4,
  "nbformat_minor": 0,
  "metadata": {
    "colab": {
      "name": "DS_workshop.ipynb",
      "provenance": []
    },
    "kernelspec": {
      "name": "python3",
      "display_name": "Python 3"
    }
  },
  "cells": [
    {
      "cell_type": "markdown",
      "metadata": {
        "id": "sFri6hOTYTV4"
      },
      "source": [
        "# creating a data frame"
      ]
    },
    {
      "cell_type": "code",
      "metadata": {
        "id": "TCd_6RBMYZi0"
      },
      "source": [
        "import  pandas as pd"
      ],
      "execution_count": null,
      "outputs": []
    },
    {
      "cell_type": "markdown",
      "metadata": {
        "id": "kH4Sj5wdZjfF"
      },
      "source": [
        "synatx for creating a dataframe"
      ]
    },
    {
      "cell_type": "markdown",
      "metadata": {
        "id": "QK8ZCUbYYsm6"
      },
      "source": [
        "\n",
        "\n",
        "```\n",
        "df = DataFrame (\n",
        "    {'First Column Name':  ['First value', 'Second value',...],  # this is the intialization of first column\n",
        "        'Second Column Name': ['First value', 'Second value',...],     # this is the intialization of first column\n",
        "         ...  # like the above line of code you can add as many columns and and  assign values to that perticular column\n",
        "    }\n",
        ")\n",
        "```\n",
        "\n"
      ]
    },
    {
      "cell_type": "code",
      "metadata": {
        "id": "u9DaI3INZVBL"
      },
      "source": [
        "df = {\n",
        "        \"Name\": ['He', 'She', 'They', 'Them'],\n",
        "        \"Contact number\": [0, 1, 2, 3],\n",
        "        \"Address\": ['AA','BB','CC', 'DD']\n",
        "    }"
      ],
      "execution_count": null,
      "outputs": []
    },
    {
      "cell_type": "code",
      "metadata": {
        "id": "vkbPsdQHapNC"
      },
      "source": [
        "df"
      ],
      "execution_count": null,
      "outputs": []
    },
    {
      "cell_type": "code",
      "metadata": {
        "id": "EJP_H-fXavV5"
      },
      "source": [
        "print(df)"
      ],
      "execution_count": null,
      "outputs": []
    },
    {
      "cell_type": "code",
      "metadata": {
        "id": "RcOGXuPsbRWF"
      },
      "source": [
        "data = pd.DataFrame(df)\n",
        "data"
      ],
      "execution_count": null,
      "outputs": []
    },
    {
      "cell_type": "markdown",
      "metadata": {
        "id": "G4IVEEOybwVj"
      },
      "source": [
        "In the above data frame you can see that even we have not assigned the index to our dataset but it got created by default. \n",
        "\n",
        "Let's assume you if you want to have index in **Alphabets** instead of **Numbers**"
      ]
    },
    {
      "cell_type": "code",
      "metadata": {
        "id": "eOY5sK8-hiMi"
      },
      "source": [
        "data_1 = pd.DataFrame(df, index = [\"a\", \"b\", \"c\", \"d\"])\n",
        "data_1"
      ],
      "execution_count": null,
      "outputs": []
    },
    {
      "cell_type": "markdown",
      "metadata": {
        "id": "PBKnGBwAhvc4"
      },
      "source": [
        "# How to access data in CSV and Json format"
      ]
    },
    {
      "cell_type": "code",
      "metadata": {
        "id": "rFBd-mJqvAN-"
      },
      "source": [
        "import json\n",
        "import requests\n",
        "\n",
        "if __name__ == \"__main__\":\n",
        "  url = \"https://data.cityofnewyork.us/api/views/kk4q-3rt2/rows.csv\"\n",
        "  data2 = requests.get(url).text\n",
        "  print( type(data2))\n",
        "  print(\"\\n\")\n",
        "  print(data2)"
      ],
      "execution_count": null,
      "outputs": []
    },
    {
      "cell_type": "code",
      "metadata": {
        "id": "ahPCa6kQviRS"
      },
      "source": [
        "import json\n",
        "import requests\n",
        "\n",
        "if __name__ == \"__main__\":\n",
        "  url = \"https://data.cityofnewyork.us/api/views/kk4q-3rt2/rows.json\"\n",
        "  data2 = requests.get(url).text\n",
        "  data3 = json.loads(data2)\n",
        "  print( type(data2))\n",
        "  print(\"\\n\")\n",
        "  print(data2)"
      ],
      "execution_count": null,
      "outputs": []
    },
    {
      "cell_type": "markdown",
      "metadata": {
        "id": "30zgxxoyw6lw"
      },
      "source": [
        ""
      ]
    }
  ]
}